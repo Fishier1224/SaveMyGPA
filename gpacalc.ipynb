{
 "cells": [
  {
   "cell_type": "code",
   "execution_count": null,
   "id": "6ea3d92a-5ff8-42cb-b23e-e9a9b477554a",
   "metadata": {},
   "outputs": [
    {
     "ename": "",
     "evalue": "",
     "output_type": "error",
     "traceback": [
      "\u001b[1;31mRunning cells with 'Python 3.12.7' requires the ipykernel package.\n",
      "\u001b[1;31mRun the following command to install 'ipykernel' into the Python environment. \n",
      "\u001b[1;31mCommand: '/opt/homebrew/bin/python3.12 -m pip install ipykernel -U --user --force-reinstall'"
     ]
    }
   ],
   "source": [
    "# Given values\n",
    "current_gpa = #user input \n",
    "current_units = #user input\n",
    "desired_gpa = #user input \n",
    "max_future_units = #user input\n",
    "college_A = #user input\n",
    "college_A_minus = #user input\n",
    "\n",
    "# Current total grade points\n",
    "current_grade_points = current_gpa * current_units\n",
    "\n",
    "# Find all combinations of A (4.0) and A− (3.7) that total 52 units and result in a GPA >= 3.6\n",
    "combinations = []\n",
    "\n",
    "for a_units in range(1, 52):  # Exclude 0\n",
    "    a_minus_units = 52 - a_units\n",
    "    if a_minus_units == 0:\n",
    "        continue  # Exclude 0\n",
    "    total_grade_points = current_grade_points + college_A * a_units + college_A_minus * a_minus_units\n",
    "    total_units = current_units + 52\n",
    "    new_gpa = total_grade_points / total_units\n",
    "    if new_gpa >= desired_gpa:\n",
    "        combinations.append((a_units, a_minus_units, round(new_gpa, 4)))\n",
    "\n",
    "import pandas as pd\n",
    "df = pd.DataFrame(combinations, columns=[\"A Units\", \"A− Units\", \"Projected GPA\"])\n"
   ]
  },
  {
   "cell_type": "code",
   "execution_count": null,
   "id": "9db95e7f-5b89-4a23-a281-d5c401d3ba6b",
   "metadata": {},
   "outputs": [],
   "source": []
  }
 ],
 "metadata": {
  "kernelspec": {
   "display_name": "Python 3",
   "language": "python",
   "name": "python3"
  },
  "language_info": {
   "codemirror_mode": {
    "name": "ipython",
    "version": 3
   },
   "file_extension": ".py",
   "mimetype": "text/x-python",
   "name": "python",
   "nbconvert_exporter": "python",
   "pygments_lexer": "ipython3",
   "version": "3.12.7"
  }
 },
 "nbformat": 4,
 "nbformat_minor": 5
}
